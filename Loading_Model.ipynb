{
 "cells": [
  {
   "cell_type": "code",
   "execution_count": 1,
   "id": "738a8f0c-26cc-4008-83c6-87417c0d022f",
   "metadata": {},
   "outputs": [],
   "source": [
    "from transformers import AutoTokenizer, AutoModelForSequenceClassification\n",
    "import json\n",
    "\n",
    "tokenizer = AutoTokenizer.from_pretrained(\"Model\")\n",
    "model = AutoModelForSequenceClassification.from_pretrained(\"Model\")\n",
    "\n",
    "with open(\"Model/label_mapping.json\", \"r\") as file:\n",
    "    label_mapping = json.load(file)\n",
    "\n",
    "inverse_label_mapping = {v: k for k, v in label_mapping.items()}"
   ]
  },
  {
   "cell_type": "code",
   "execution_count": 2,
   "id": "31209bb3-afb1-44f7-9b5a-d167ad3b5305",
   "metadata": {},
   "outputs": [],
   "source": [
    "def predict(texts):\n",
    "    inputs = tokenizer(texts, padding=True, truncation=True, return_tensors=\"pt\")\n",
    "    outputs = model(**inputs)\n",
    "    predictions = outputs.logits.argmax(dim=-1).tolist()\n",
    "    predicted_labels = [inverse_label_mapping[label] for label in predictions]\n",
    "    return predicted_labels"
   ]
  },
  {
   "cell_type": "code",
   "execution_count": 7,
   "id": "69584cc3-e6eb-4af3-9383-2b8a4b6d9107",
   "metadata": {},
   "outputs": [
    {
     "name": "stdout",
     "output_type": "stream",
     "text": [
      "Text: Can I return an item if it doesn't fit properly? => Predicted Label: Customer Service\n",
      "Text: Is there a sale or discount section on the website? => Predicted Label: Customer Service\n",
      "Text: Do you have any clothing suitable for a formal event? => Predicted Label: Occasion specific\n",
      "Text: Return policy of sale items? => Predicted Label: Customer Service\n",
      "Text: Can I mix and match different sizes for tops and bottoms in a set? => Predicted Label: Related Items\n",
      "Text: Can I buy a set of clothes with coordinated patterns? => Predicted Label: Occasion specific\n",
      "Text: What's the policy on returns for personalized/customized items? => Predicted Label: Customer Service\n",
      "Text: I prefer a loose fit. Are these sweatpants roomy? => Predicted Label: Product description\n"
     ]
    }
   ],
   "source": [
    "examples = [\n",
    "    \"Can I return an item if it doesn't fit properly?\",\n",
    "    \"Is there a sale or discount section on the website?\",\n",
    "    \"Do you have any clothing suitable for a formal event?\",\n",
    "    \"Return policy of sale items?\",\n",
    "    \"Can I mix and match different sizes for tops and bottoms in a set?\",\n",
    "    \"Can I buy a set of clothes with coordinated patterns?\",\n",
    "    \"What's the policy on returns for personalized/customized items?\",\n",
    "    \"I prefer a loose fit. Are these sweatpants roomy?\",\n",
    "]\n",
    "\n",
    "predicted_labels = predict(examples)\n",
    "\n",
    "for text, label in zip(examples, predicted_labels):\n",
    "    print(f\"Text: {text} => Predicted Label: {label}\")"
   ]
  },
  {
   "cell_type": "code",
   "execution_count": null,
   "id": "55af358f-3378-4887-b444-3db4dfa9fcc5",
   "metadata": {},
   "outputs": [],
   "source": []
  }
 ],
 "metadata": {
  "kernelspec": {
   "display_name": "Python 3 (ipykernel)",
   "language": "python",
   "name": "python3"
  },
  "language_info": {
   "codemirror_mode": {
    "name": "ipython",
    "version": 3
   },
   "file_extension": ".py",
   "mimetype": "text/x-python",
   "name": "python",
   "nbconvert_exporter": "python",
   "pygments_lexer": "ipython3",
   "version": "3.11.7"
  }
 },
 "nbformat": 4,
 "nbformat_minor": 5
}
