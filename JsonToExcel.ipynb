{
 "cells": [
  {
   "cell_type": "code",
   "execution_count": 4,
   "id": "58683eb6-2d4a-4d46-b8d6-0ace602e1ba4",
   "metadata": {},
   "outputs": [
    {
     "name": "stdout",
     "output_type": "stream",
     "text": [
      "Data has been written to fashion_no_details.xlsx and fashion_details.xlsx\n"
     ]
    }
   ],
   "source": [
    "import json\n",
    "import pandas as pd\n",
    "import os\n",
    "\n",
    "folder_path = 'JSON_Files'\n",
    "\n",
    "no_details_rows = []\n",
    "details_rows = []\n",
    "\n",
    "for filename in os.listdir(folder_path):\n",
    "    if filename.endswith('.json'):\n",
    "        with open(os.path.join(folder_path, filename), 'r') as file:\n",
    "            data = json.load(file)\n",
    "        \n",
    "        for item in data:\n",
    "            for key, values in item.items():\n",
    "                row = {\"ID\": key}\n",
    "                if \"No fashion details found\" in values:\n",
    "                    row[\"No fashion details found\"] = \"True\"\n",
    "                    no_details_rows.append(row)\n",
    "                else:\n",
    "                    for detail in values:\n",
    "                        k, v = detail.split(\"=\")\n",
    "                        row[k.strip()] = \"True\" if int(v.strip(\"%\")) >= 90 else \"False\"\n",
    "                    details_rows.append(row)\n",
    "\n",
    "df_no_details = pd.DataFrame(no_details_rows).fillna(\"False\")\n",
    "df_details = pd.DataFrame(details_rows).fillna(\"False\")\n",
    "\n",
    "excel_no_details_path = \"fashion_no_details.xlsx\"\n",
    "excel_details_path = \"fashion_details.xlsx\"\n",
    "\n",
    "df_no_details.to_excel(excel_no_details_path, index=False)\n",
    "df_details.to_excel(excel_details_path, index=False)\n",
    "\n",
    "print(f\"Data has been written to {excel_no_details_path} and {excel_details_path}\")\n"
   ]
  },
  {
   "cell_type": "code",
   "execution_count": null,
   "id": "cccea78f-08c7-4a72-a2cc-a273a1af880a",
   "metadata": {},
   "outputs": [],
   "source": []
  }
 ],
 "metadata": {
  "kernelspec": {
   "display_name": "Python 3 (ipykernel)",
   "language": "python",
   "name": "python3"
  },
  "language_info": {
   "codemirror_mode": {
    "name": "ipython",
    "version": 3
   },
   "file_extension": ".py",
   "mimetype": "text/x-python",
   "name": "python",
   "nbconvert_exporter": "python",
   "pygments_lexer": "ipython3",
   "version": "3.11.7"
  }
 },
 "nbformat": 4,
 "nbformat_minor": 5
}
